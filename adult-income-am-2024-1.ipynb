{
 "cells": [
  {
   "cell_type": "code",
   "execution_count": 2,
   "metadata": {},
   "outputs": [],
   "source": [
    "import pandas as pd\n",
    "from ucimlrepo import fetch_ucirepo\n",
    "from sklearn.model_selection import train_test_split\n",
    "from sklearn.pipeline import Pipeline\n",
    "from sklearn.preprocessing import OneHotEncoder, StandardScaler\n",
    "from sklearn.compose import ColumnTransformer\n",
    "from sklearn.tree import DecisionTreeClassifier\n",
    "from sklearn.svm import SVC\n",
    "from sklearn.metrics import classification_report, confusion_matrix, accuracy_score, precision_score, recall_score, f1_score, roc_auc_score"
   ]
  },
  {
   "cell_type": "code",
   "execution_count": 3,
   "metadata": {},
   "outputs": [
    {
     "data": {
      "text/html": [
       "<div>\n",
       "<style scoped>\n",
       "    .dataframe tbody tr th:only-of-type {\n",
       "        vertical-align: middle;\n",
       "    }\n",
       "\n",
       "    .dataframe tbody tr th {\n",
       "        vertical-align: top;\n",
       "    }\n",
       "\n",
       "    .dataframe thead th {\n",
       "        text-align: right;\n",
       "    }\n",
       "</style>\n",
       "<table border=\"1\" class=\"dataframe\">\n",
       "  <thead>\n",
       "    <tr style=\"text-align: right;\">\n",
       "      <th></th>\n",
       "      <th>age</th>\n",
       "      <th>workclass</th>\n",
       "      <th>fnlwgt</th>\n",
       "      <th>education</th>\n",
       "      <th>education-num</th>\n",
       "      <th>marital-status</th>\n",
       "      <th>occupation</th>\n",
       "      <th>relationship</th>\n",
       "      <th>race</th>\n",
       "      <th>sex</th>\n",
       "      <th>capital-gain</th>\n",
       "      <th>capital-loss</th>\n",
       "      <th>hours-per-week</th>\n",
       "      <th>native-country</th>\n",
       "      <th>income</th>\n",
       "    </tr>\n",
       "  </thead>\n",
       "  <tbody>\n",
       "    <tr>\n",
       "      <th>0</th>\n",
       "      <td>39</td>\n",
       "      <td>State-gov</td>\n",
       "      <td>77516</td>\n",
       "      <td>Bachelors</td>\n",
       "      <td>13</td>\n",
       "      <td>Never-married</td>\n",
       "      <td>Adm-clerical</td>\n",
       "      <td>Not-in-family</td>\n",
       "      <td>White</td>\n",
       "      <td>Male</td>\n",
       "      <td>2174</td>\n",
       "      <td>0</td>\n",
       "      <td>40</td>\n",
       "      <td>United-States</td>\n",
       "      <td>&lt;=50K</td>\n",
       "    </tr>\n",
       "    <tr>\n",
       "      <th>1</th>\n",
       "      <td>50</td>\n",
       "      <td>Self-emp-not-inc</td>\n",
       "      <td>83311</td>\n",
       "      <td>Bachelors</td>\n",
       "      <td>13</td>\n",
       "      <td>Married-civ-spouse</td>\n",
       "      <td>Exec-managerial</td>\n",
       "      <td>Husband</td>\n",
       "      <td>White</td>\n",
       "      <td>Male</td>\n",
       "      <td>0</td>\n",
       "      <td>0</td>\n",
       "      <td>13</td>\n",
       "      <td>United-States</td>\n",
       "      <td>&lt;=50K</td>\n",
       "    </tr>\n",
       "    <tr>\n",
       "      <th>2</th>\n",
       "      <td>38</td>\n",
       "      <td>Private</td>\n",
       "      <td>215646</td>\n",
       "      <td>HS-grad</td>\n",
       "      <td>9</td>\n",
       "      <td>Divorced</td>\n",
       "      <td>Handlers-cleaners</td>\n",
       "      <td>Not-in-family</td>\n",
       "      <td>White</td>\n",
       "      <td>Male</td>\n",
       "      <td>0</td>\n",
       "      <td>0</td>\n",
       "      <td>40</td>\n",
       "      <td>United-States</td>\n",
       "      <td>&lt;=50K</td>\n",
       "    </tr>\n",
       "    <tr>\n",
       "      <th>3</th>\n",
       "      <td>53</td>\n",
       "      <td>Private</td>\n",
       "      <td>234721</td>\n",
       "      <td>11th</td>\n",
       "      <td>7</td>\n",
       "      <td>Married-civ-spouse</td>\n",
       "      <td>Handlers-cleaners</td>\n",
       "      <td>Husband</td>\n",
       "      <td>Black</td>\n",
       "      <td>Male</td>\n",
       "      <td>0</td>\n",
       "      <td>0</td>\n",
       "      <td>40</td>\n",
       "      <td>United-States</td>\n",
       "      <td>&lt;=50K</td>\n",
       "    </tr>\n",
       "    <tr>\n",
       "      <th>4</th>\n",
       "      <td>28</td>\n",
       "      <td>Private</td>\n",
       "      <td>338409</td>\n",
       "      <td>Bachelors</td>\n",
       "      <td>13</td>\n",
       "      <td>Married-civ-spouse</td>\n",
       "      <td>Prof-specialty</td>\n",
       "      <td>Wife</td>\n",
       "      <td>Black</td>\n",
       "      <td>Female</td>\n",
       "      <td>0</td>\n",
       "      <td>0</td>\n",
       "      <td>40</td>\n",
       "      <td>Cuba</td>\n",
       "      <td>&lt;=50K</td>\n",
       "    </tr>\n",
       "  </tbody>\n",
       "</table>\n",
       "</div>"
      ],
      "text/plain": [
       "   age         workclass  fnlwgt  education  education-num  \\\n",
       "0   39         State-gov   77516  Bachelors             13   \n",
       "1   50  Self-emp-not-inc   83311  Bachelors             13   \n",
       "2   38           Private  215646    HS-grad              9   \n",
       "3   53           Private  234721       11th              7   \n",
       "4   28           Private  338409  Bachelors             13   \n",
       "\n",
       "       marital-status         occupation   relationship   race     sex  \\\n",
       "0       Never-married       Adm-clerical  Not-in-family  White    Male   \n",
       "1  Married-civ-spouse    Exec-managerial        Husband  White    Male   \n",
       "2            Divorced  Handlers-cleaners  Not-in-family  White    Male   \n",
       "3  Married-civ-spouse  Handlers-cleaners        Husband  Black    Male   \n",
       "4  Married-civ-spouse     Prof-specialty           Wife  Black  Female   \n",
       "\n",
       "   capital-gain  capital-loss  hours-per-week native-country income  \n",
       "0          2174             0              40  United-States  <=50K  \n",
       "1             0             0              13  United-States  <=50K  \n",
       "2             0             0              40  United-States  <=50K  \n",
       "3             0             0              40  United-States  <=50K  \n",
       "4             0             0              40           Cuba  <=50K  "
      ]
     },
     "execution_count": 3,
     "metadata": {},
     "output_type": "execute_result"
    }
   ],
   "source": [
    "adult = fetch_ucirepo(id=2) \n",
    "data = adult.data.original\n",
    "data.head()"
   ]
  },
  {
   "cell_type": "code",
   "execution_count": 4,
   "metadata": {},
   "outputs": [],
   "source": [
    "data.dropna(inplace=True)"
   ]
  },
  {
   "cell_type": "code",
   "execution_count": 5,
   "metadata": {},
   "outputs": [],
   "source": [
    "X = data.drop(columns='income')\n",
    "y = data['income']"
   ]
  },
  {
   "cell_type": "code",
   "execution_count": 6,
   "metadata": {},
   "outputs": [
    {
     "data": {
      "text/plain": [
       "array(['<=50K', '>50K'], dtype=object)"
      ]
     },
     "execution_count": 6,
     "metadata": {},
     "output_type": "execute_result"
    }
   ],
   "source": [
    "y = y.str.strip().str.replace('.', '', regex=False)\n",
    "y.unique()"
   ]
  },
  {
   "cell_type": "code",
   "execution_count": 7,
   "metadata": {},
   "outputs": [],
   "source": [
    "y = y.map({'<=50K': 0, '>50K': 1})"
   ]
  },
  {
   "cell_type": "code",
   "execution_count": 11,
   "metadata": {},
   "outputs": [
    {
     "data": {
      "text/html": [
       "<div>\n",
       "<style scoped>\n",
       "    .dataframe tbody tr th:only-of-type {\n",
       "        vertical-align: middle;\n",
       "    }\n",
       "\n",
       "    .dataframe tbody tr th {\n",
       "        vertical-align: top;\n",
       "    }\n",
       "\n",
       "    .dataframe thead th {\n",
       "        text-align: right;\n",
       "    }\n",
       "</style>\n",
       "<table border=\"1\" class=\"dataframe\">\n",
       "  <thead>\n",
       "    <tr style=\"text-align: right;\">\n",
       "      <th></th>\n",
       "      <th>age</th>\n",
       "      <th>fnlwgt</th>\n",
       "      <th>education-num</th>\n",
       "      <th>capital-gain</th>\n",
       "      <th>capital-loss</th>\n",
       "      <th>hours-per-week</th>\n",
       "      <th>workclass</th>\n",
       "      <th>education</th>\n",
       "      <th>marital-status</th>\n",
       "      <th>occupation</th>\n",
       "      <th>relationship</th>\n",
       "      <th>race</th>\n",
       "      <th>sex</th>\n",
       "      <th>native-country</th>\n",
       "    </tr>\n",
       "  </thead>\n",
       "  <tbody>\n",
       "    <tr>\n",
       "      <th>0</th>\n",
       "      <td>0.026501</td>\n",
       "      <td>-1.062924</td>\n",
       "      <td>1.132729</td>\n",
       "      <td>0.144629</td>\n",
       "      <td>-0.217456</td>\n",
       "      <td>-0.048943</td>\n",
       "      <td>0.269211</td>\n",
       "      <td>0.415303</td>\n",
       "      <td>0.046416</td>\n",
       "      <td>0.136876</td>\n",
       "      <td>0.102679</td>\n",
       "      <td>0.257074</td>\n",
       "      <td>0.307011</td>\n",
       "      <td>0.247311</td>\n",
       "    </tr>\n",
       "    <tr>\n",
       "      <th>1</th>\n",
       "      <td>0.837781</td>\n",
       "      <td>-1.008031</td>\n",
       "      <td>1.132729</td>\n",
       "      <td>-0.145735</td>\n",
       "      <td>-0.217456</td>\n",
       "      <td>-2.251188</td>\n",
       "      <td>0.278530</td>\n",
       "      <td>0.415303</td>\n",
       "      <td>0.448739</td>\n",
       "      <td>0.478376</td>\n",
       "      <td>0.450918</td>\n",
       "      <td>0.257074</td>\n",
       "      <td>0.307011</td>\n",
       "      <td>0.247311</td>\n",
       "    </tr>\n",
       "    <tr>\n",
       "      <th>2</th>\n",
       "      <td>-0.047252</td>\n",
       "      <td>0.245517</td>\n",
       "      <td>-0.424726</td>\n",
       "      <td>-0.145735</td>\n",
       "      <td>-0.217456</td>\n",
       "      <td>-0.048943</td>\n",
       "      <td>0.217635</td>\n",
       "      <td>0.160192</td>\n",
       "      <td>0.102053</td>\n",
       "      <td>0.066796</td>\n",
       "      <td>0.102679</td>\n",
       "      <td>0.257074</td>\n",
       "      <td>0.307011</td>\n",
       "      <td>0.247311</td>\n",
       "    </tr>\n",
       "    <tr>\n",
       "      <th>3</th>\n",
       "      <td>1.059039</td>\n",
       "      <td>0.426206</td>\n",
       "      <td>-1.203454</td>\n",
       "      <td>-0.145735</td>\n",
       "      <td>-0.217456</td>\n",
       "      <td>-0.048943</td>\n",
       "      <td>0.217635</td>\n",
       "      <td>0.051546</td>\n",
       "      <td>0.448739</td>\n",
       "      <td>0.066796</td>\n",
       "      <td>0.450918</td>\n",
       "      <td>0.122381</td>\n",
       "      <td>0.307011</td>\n",
       "      <td>0.247311</td>\n",
       "    </tr>\n",
       "    <tr>\n",
       "      <th>4</th>\n",
       "      <td>-0.784780</td>\n",
       "      <td>1.408394</td>\n",
       "      <td>1.132729</td>\n",
       "      <td>-0.145735</td>\n",
       "      <td>-0.217456</td>\n",
       "      <td>-0.048943</td>\n",
       "      <td>0.217635</td>\n",
       "      <td>0.415303</td>\n",
       "      <td>0.448739</td>\n",
       "      <td>0.450409</td>\n",
       "      <td>0.473591</td>\n",
       "      <td>0.122381</td>\n",
       "      <td>0.110686</td>\n",
       "      <td>0.250000</td>\n",
       "    </tr>\n",
       "  </tbody>\n",
       "</table>\n",
       "</div>"
      ],
      "text/plain": [
       "        age    fnlwgt  education-num  capital-gain  capital-loss  \\\n",
       "0  0.026501 -1.062924       1.132729      0.144629     -0.217456   \n",
       "1  0.837781 -1.008031       1.132729     -0.145735     -0.217456   \n",
       "2 -0.047252  0.245517      -0.424726     -0.145735     -0.217456   \n",
       "3  1.059039  0.426206      -1.203454     -0.145735     -0.217456   \n",
       "4 -0.784780  1.408394       1.132729     -0.145735     -0.217456   \n",
       "\n",
       "   hours-per-week  workclass  education  marital-status  occupation  \\\n",
       "0       -0.048943   0.269211   0.415303        0.046416    0.136876   \n",
       "1       -2.251188   0.278530   0.415303        0.448739    0.478376   \n",
       "2       -0.048943   0.217635   0.160192        0.102053    0.066796   \n",
       "3       -0.048943   0.217635   0.051546        0.448739    0.066796   \n",
       "4       -0.048943   0.217635   0.415303        0.448739    0.450409   \n",
       "\n",
       "   relationship      race       sex  native-country  \n",
       "0      0.102679  0.257074  0.307011        0.247311  \n",
       "1      0.450918  0.257074  0.307011        0.247311  \n",
       "2      0.102679  0.257074  0.307011        0.247311  \n",
       "3      0.450918  0.122381  0.307011        0.247311  \n",
       "4      0.473591  0.122381  0.110686        0.250000  "
      ]
     },
     "execution_count": 11,
     "metadata": {},
     "output_type": "execute_result"
    }
   ],
   "source": [
    "import category_encoders as ce\n",
    "categorical_columns = X.select_dtypes(include=['object']).columns\n",
    "numeric_columns = X.select_dtypes(exclude=['object']).columns\n",
    "\n",
    "categorical_transformer = Pipeline(steps=[\n",
    "    ('onehot', ce.TargetEncoder())\n",
    "])\n",
    "\n",
    "numeric_transformer = Pipeline(steps=[\n",
    "    ('scaler', StandardScaler())\n",
    "])\n",
    "\n",
    "preprocessor = ColumnTransformer(\n",
    "    transformers=[\n",
    "        ('num', numeric_transformer, numeric_columns),\n",
    "        ('cat', categorical_transformer, categorical_columns)\n",
    "    ]\n",
    ")\n",
    "\n",
    "X_encoded = pd.DataFrame(preprocessor.fit_transform(X, y), columns=numeric_columns.tolist() + preprocessor.named_transformers_['cat'].named_steps['onehot'].get_feature_names_out().tolist())\n",
    "X_encoded.head()"
   ]
  },
  {
   "cell_type": "code",
   "execution_count": 12,
   "metadata": {},
   "outputs": [],
   "source": [
    "X_train, X_test, y_train, y_test = train_test_split(X_encoded, y, test_size=0.3, random_state=45)"
   ]
  },
  {
   "cell_type": "code",
   "execution_count": 13,
   "metadata": {},
   "outputs": [],
   "source": [
    "def show_metrics(y_pred, X_test, y_test):\n",
    "    print('Classification report:')\n",
    "    report = classification_report(y_test, y_pred, zero_division=1)\n",
    "    print(report)\n",
    "\n",
    "    print('Confusion matrix:')\n",
    "    cm = confusion_matrix(y_test, y_pred)\n",
    "    print(cm)"
   ]
  },
  {
   "cell_type": "markdown",
   "metadata": {},
   "source": [
    "Decision Tree"
   ]
  },
  {
   "cell_type": "code",
   "execution_count": 14,
   "metadata": {},
   "outputs": [
    {
     "name": "stdout",
     "output_type": "stream",
     "text": [
      "Classification report:\n",
      "              precision    recall  f1-score   support\n",
      "\n",
      "           0       0.88      0.87      0.88     10838\n",
      "           1       0.61      0.63      0.62      3449\n",
      "\n",
      "    accuracy                           0.81     14287\n",
      "   macro avg       0.75      0.75      0.75     14287\n",
      "weighted avg       0.82      0.81      0.81     14287\n",
      "\n",
      "Confusion matrix:\n",
      "[[9451 1387]\n",
      " [1282 2167]]\n"
     ]
    }
   ],
   "source": [
    "dt = DecisionTreeClassifier(random_state=45)\n",
    "dt.fit(X_train, y_train)\n",
    "y_pred_dt = dt.predict(X_test)\n",
    "y_proba_dt = dt.predict_proba(X_test)[:, 1]\n",
    "\n",
    "show_metrics(y_pred_dt, X_test, y_test)"
   ]
  },
  {
   "cell_type": "code",
   "execution_count": 16,
   "metadata": {},
   "outputs": [],
   "source": [
    "results_dt = {\n",
    "    'Accuracy': accuracy_score(y_test, y_pred_dt),\n",
    "    'Precision': precision_score(y_test, y_pred_dt, average='weighted'),\n",
    "    'Recall': recall_score(y_test, y_pred_dt, average='weighted'),\n",
    "    'F1 Score': f1_score(y_test, y_pred_dt, average='weighted'),\n",
    "    'AUC': roc_auc_score(y_test, y_proba_dt)\n",
    "}"
   ]
  },
  {
   "cell_type": "markdown",
   "metadata": {},
   "source": [
    "SVM"
   ]
  },
  {
   "cell_type": "code",
   "execution_count": 17,
   "metadata": {},
   "outputs": [
    {
     "name": "stdout",
     "output_type": "stream",
     "text": [
      "Classification report:\n",
      "              precision    recall  f1-score   support\n",
      "\n",
      "           0       0.86      0.95      0.90     10838\n",
      "           1       0.77      0.53      0.63      3449\n",
      "\n",
      "    accuracy                           0.85     14287\n",
      "   macro avg       0.82      0.74      0.77     14287\n",
      "weighted avg       0.84      0.85      0.84     14287\n",
      "\n",
      "Confusion matrix:\n",
      "[[10295   543]\n",
      " [ 1619  1830]]\n"
     ]
    }
   ],
   "source": [
    "svm = SVC(probability=True, random_state=45)\n",
    "svm.fit(X_train, y_train)\n",
    "y_pred_svm = svm.predict(X_test)\n",
    "y_proba_svm = svm.predict_proba(X_test)[:, 1]\n",
    "\n",
    "show_metrics(y_pred_svm, X_test, y_test)"
   ]
  },
  {
   "cell_type": "code",
   "execution_count": 18,
   "metadata": {},
   "outputs": [],
   "source": [
    "results_svm = {\n",
    "    'Accuracy': accuracy_score(y_test, y_pred_svm),\n",
    "    'Precision': precision_score(y_test, y_pred_svm, average='weighted'),\n",
    "    'Recall': recall_score(y_test, y_pred_svm, average='weighted'),\n",
    "    'F1 Score': f1_score(y_test, y_pred_svm, average='weighted'),\n",
    "    'AUC': roc_auc_score(y_test, y_proba_svm)\n",
    "}"
   ]
  },
  {
   "cell_type": "markdown",
   "metadata": {},
   "source": [
    "Redes neurais"
   ]
  },
  {
   "cell_type": "code",
   "execution_count": 19,
   "metadata": {},
   "outputs": [
    {
     "name": "stdout",
     "output_type": "stream",
     "text": [
      "Classification report:\n",
      "              precision    recall  f1-score   support\n",
      "\n",
      "           0       0.87      0.95      0.91     10838\n",
      "           1       0.77      0.57      0.66      3449\n",
      "\n",
      "    accuracy                           0.86     14287\n",
      "   macro avg       0.82      0.76      0.78     14287\n",
      "weighted avg       0.85      0.86      0.85     14287\n",
      "\n",
      "Confusion matrix:\n",
      "[[10247   591]\n",
      " [ 1476  1973]]\n"
     ]
    }
   ],
   "source": [
    "from sklearn.neural_network import MLPClassifier\n",
    "\n",
    "\n",
    "nn = MLPClassifier(random_state=45, max_iter=300)\n",
    "nn.fit(X_train, y_train)\n",
    "y_pred_nn = nn.predict(X_test)\n",
    "y_proba_nn = nn.predict_proba(X_test)[:, 1]\n",
    "\n",
    "show_metrics(y_pred_nn, X_test, y_test)"
   ]
  },
  {
   "cell_type": "code",
   "execution_count": 20,
   "metadata": {},
   "outputs": [],
   "source": [
    "results_nn = {\n",
    "    'Accuracy': accuracy_score(y_test, y_pred_nn),\n",
    "    'Precision': precision_score(y_test, y_pred_nn, average='weighted'),\n",
    "    'Recall': recall_score(y_test, y_pred_nn, average='weighted'),\n",
    "    'F1 Score': f1_score(y_test, y_pred_nn, average='weighted'),\n",
    "    'AUC': roc_auc_score(y_test, y_proba_nn)\n",
    "}"
   ]
  },
  {
   "cell_type": "markdown",
   "metadata": {},
   "source": [
    "Random Forest"
   ]
  },
  {
   "cell_type": "code",
   "execution_count": 21,
   "metadata": {},
   "outputs": [
    {
     "name": "stdout",
     "output_type": "stream",
     "text": [
      "Classification report:\n",
      "              precision    recall  f1-score   support\n",
      "\n",
      "           0       0.89      0.93      0.91     10838\n",
      "           1       0.74      0.63      0.68      3449\n",
      "\n",
      "    accuracy                           0.86     14287\n",
      "   macro avg       0.82      0.78      0.80     14287\n",
      "weighted avg       0.85      0.86      0.85     14287\n",
      "\n",
      "Confusion matrix:\n",
      "[[10091   747]\n",
      " [ 1270  2179]]\n"
     ]
    }
   ],
   "source": [
    "from sklearn.ensemble import RandomForestClassifier\n",
    "\n",
    "\n",
    "rf = RandomForestClassifier(random_state=45)\n",
    "rf.fit(X_train, y_train)\n",
    "y_pred_rf = rf.predict(X_test)\n",
    "y_proba_rf = rf.predict_proba(X_test)[:, 1]\n",
    "\n",
    "show_metrics(y_pred_rf, X_test, y_test)"
   ]
  },
  {
   "cell_type": "code",
   "execution_count": 22,
   "metadata": {},
   "outputs": [],
   "source": [
    "results_rf = {\n",
    "    'Accuracy': accuracy_score(y_test, y_pred_rf),\n",
    "    'Precision': precision_score(y_test, y_pred_rf, average='weighted'),\n",
    "    'Recall': recall_score(y_test, y_pred_rf, average='weighted'),\n",
    "    'F1 Score': f1_score(y_test, y_pred_rf, average='weighted'),\n",
    "    'AUC': roc_auc_score(y_test, y_proba_rf)\n",
    "}"
   ]
  },
  {
   "cell_type": "markdown",
   "metadata": {},
   "source": [
    "Stacking"
   ]
  },
  {
   "cell_type": "code",
   "execution_count": 23,
   "metadata": {},
   "outputs": [],
   "source": [
    "# Evaluate Stacking\n",
    "from sklearn.ensemble import StackingClassifier\n",
    "from sklearn.linear_model import LogisticRegression\n",
    "\n",
    "\n",
    "stacking = StackingClassifier(\n",
    "    estimators=[\n",
    "        ('dt', DecisionTreeClassifier(random_state=45)),\n",
    "        ('svc', SVC(probability=True, random_state=45)),\n",
    "        ('mlp', MLPClassifier(random_state=45, max_iter=300)),\n",
    "        ('rf', RandomForestClassifier(random_state=45))\n",
    "    ],\n",
    "    final_estimator=LogisticRegression()\n",
    ")\n",
    "stacking.fit(X_train, y_train)\n",
    "y_pred_stacking = stacking.predict(X_test)\n",
    "y_proba_stacking = stacking.predict_proba(X_test)[:, 1]\n",
    "\n",
    "show_metrics(y_pred_stacking, X_test, y_test)"
   ]
  },
  {
   "cell_type": "code",
   "execution_count": null,
   "metadata": {},
   "outputs": [],
   "source": [
    "results_stacking = {\n",
    "    'Accuracy': accuracy_score(y_test, y_pred_stacking),\n",
    "    'Precision': precision_score(y_test, y_pred_stacking, average='weighted'),\n",
    "    'Recall': recall_score(y_test, y_pred_stacking, average='weighted'),\n",
    "    'F1 Score': f1_score(y_test, y_pred_stacking, average='weighted'),\n",
    "    'AUC': roc_auc_score(y_test, y_proba_stacking)\n",
    "}\n"
   ]
  },
  {
   "cell_type": "markdown",
   "metadata": {},
   "source": [
    "Teste de Fredman"
   ]
  },
  {
   "cell_type": "code",
   "execution_count": null,
   "metadata": {},
   "outputs": [],
   "source": [
    "results = {\n",
    "    'Decision Tree': results_dt,\n",
    "    'SVM': results_svm,\n",
    "    'Neural Network': results_nn,\n",
    "    'Random Forest': results_rf,\n",
    "    'Stacking': results_stacking\n",
    "}\n",
    "\n",
    "results_df = pd.DataFrame(results).T"
   ]
  },
  {
   "cell_type": "code",
   "execution_count": null,
   "metadata": {},
   "outputs": [],
   "source": [
    "from scipy.stats import friedmanchisquare\n",
    "\n",
    "metric_names = ['Accuracy', 'Precision', 'Recall', 'F1 Score', 'AUC']\n",
    "friedman_results = {}\n",
    "for metric in metric_names:\n",
    "    scores = [results[name][metric] for name in results if results[name][metric] is not None]\n",
    "    stat, p = friedmanchisquare(*scores)\n",
    "    friedman_results[metric] = (stat, p)\n",
    "\n",
    "print(\"\\nFriedman Test Results:\")\n",
    "for metric, (stat, p) in friedman_results.items():\n",
    "    print(f\"{metric}: Statistic={stat:.4f}, p-value={p:.4f}\")"
   ]
  },
  {
   "cell_type": "code",
   "execution_count": null,
   "metadata": {},
   "outputs": [],
   "source": [
    "import matplotlib.pyplot as plt\n",
    "import seaborn as sns\n",
    "\n",
    "\n",
    "plt.figure(figsize=(14, 8))\n",
    "for metric in metric_names:\n",
    "    sns.boxplot(data=results_df[metric].dropna())\n",
    "    plt.title(f'Comparison of Classifiers based on {metric}')\n",
    "    plt.xlabel('Model')\n",
    "    plt.ylabel(metric)\n",
    "    plt.xticks(rotation=45)\n",
    "    plt.show()\n"
   ]
  },
  {
   "cell_type": "code",
   "execution_count": null,
   "metadata": {},
   "outputs": [],
   "source": []
  }
 ],
 "metadata": {
  "kernelspec": {
   "display_name": "adult-income-am-2024-1-DihPR2Ma",
   "language": "python",
   "name": "python3"
  },
  "language_info": {
   "codemirror_mode": {
    "name": "ipython",
    "version": 3
   },
   "file_extension": ".py",
   "mimetype": "text/x-python",
   "name": "python",
   "nbconvert_exporter": "python",
   "pygments_lexer": "ipython3",
   "version": "3.12.3"
  }
 },
 "nbformat": 4,
 "nbformat_minor": 2
}
